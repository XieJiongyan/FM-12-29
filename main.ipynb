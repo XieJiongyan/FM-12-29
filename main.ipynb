{
 "metadata": {
  "language_info": {
   "codemirror_mode": {
    "name": "ipython",
    "version": 3
   },
   "file_extension": ".py",
   "mimetype": "text/x-python",
   "name": "python",
   "nbconvert_exporter": "python",
   "pygments_lexer": "ipython3",
   "version": "3.7.6-final"
  },
  "orig_nbformat": 2,
  "kernelspec": {
   "name": "python3",
   "display_name": "Python 3"
  }
 },
 "nbformat": 4,
 "nbformat_minor": 2,
 "cells": [
  {
   "source": [
    "# 流体力学坤杜第5版课后习题12.29\n"
   ],
   "cell_type": "markdown",
   "metadata": {}
  },
  {
   "cell_type": "code",
   "execution_count": 13,
   "metadata": {},
   "outputs": [
    {
     "output_type": "stream",
     "name": "stdout",
     "text": [
      "[1.e+04 1.e+05 1.e+06 1.e+07 1.e+08 1.e+09] [6.64000000e-03 2.09975237e-03 6.64000000e-04 2.09975237e-04\n 6.64000000e-05 2.09975237e-05]\n[0.0102915  0.0057818  0.0036096  0.00242364 0.00171639 0.00126602]\n[[1.00000000e+04 1.00000000e+05 1.00000000e+06 1.00000000e+07\n  1.00000000e+08 1.00000000e+09]\n [6.64000000e-03 2.09975237e-03 6.64000000e-04 2.09975237e-04\n  6.64000000e-05 2.09975237e-05]\n [4.06700000e+01 1.28609832e+01 4.06700000e+00 1.28609832e+00\n  4.06700000e-01 1.28609832e-01]\n [1.32800000e+03 4.19950473e+02 1.32800000e+02 4.19950473e+01\n  1.32800000e+01 4.19950473e+00]\n [1.02915007e-02 5.78180224e-03 3.60959846e-03 2.42364155e-03\n  1.71639483e-03 1.26601567e-03]\n [6.30354416e+01 3.54135387e+01 2.21087906e+01 1.48448045e+01\n  1.05129183e+01 7.75434595e+00]\n [2.05830013e+03 1.15636045e+03 7.21919693e+02 4.84728309e+02\n  3.43278966e+02 2.53203133e+02]]\n"
     ]
    }
   ],
   "source": [
    "import numpy as np \n",
    "\n",
    "Re_x = np.array([1e4, 1e5, 1e6, 1e7, 1e8, 1e9])\n",
    "C_f_laminar = 0.664 / np.sqrt(Re_x)\n",
    "C_f_turbulant = 0.370 * (np.log10(Re_x) ** -2.584)\n",
    "def friction_force(rho, U, C_f):\n",
    "    return 0.5 * C_f * rho * U ** 2\n",
    "\n",
    "water = [1000, 20]\n",
    "air = [1.2250, 100]\n",
    "\n",
    "C4 = friction_force(water[0], water[1], C_f_laminar)\n",
    "C3 = friction_force(air[0], air[1], C_f_laminar)\n",
    "C6 = friction_force(water[0], water[1], C_f_turbulant)\n",
    "C5 = friction_force(air[0], air[1], C_f_turbulant)\n",
    "\n",
    "print(Re_x, C_f_laminar)\n",
    "print(C_f_turbulant)\n",
    "print(np.vstack((Re_x, C_f_laminar, C3, C4, C_f_turbulant, C5, C6)))\n",
    "\n",
    "nptable = np.vstack((Re_x, C_f_laminar, C3, C4, C_f_turbulant, C5, C6))\n"
   ]
  },
  {
   "cell_type": "code",
   "execution_count": 15,
   "metadata": {},
   "outputs": [
    {
     "output_type": "stream",
     "name": "stdout",
     "text": [
      "             Re  C_f_laminar  air_force  water_force  C_f_turbulant  \\\n0  1.000000e+04     0.006640  40.670000  1328.000000       0.010292   \n1  1.000000e+05     0.002100  12.860983   419.950473       0.005782   \n2  1.000000e+06     0.000664   4.067000   132.800000       0.003610   \n3  1.000000e+07     0.000210   1.286098    41.995047       0.002424   \n4  1.000000e+08     0.000066   0.406700    13.280000       0.001716   \n5  1.000000e+09     0.000021   0.128610     4.199505       0.001266   \n\n   air_force  water_force  \n0  63.035442  2058.300133  \n1  35.413539  1156.360448  \n2  22.108791   721.919693  \n3  14.844804   484.728309  \n4  10.512918   343.278966  \n5   7.754346   253.203133  \n"
     ]
    }
   ],
   "source": [
    "import pandas as pd \n",
    "\n",
    "table = pd.DataFrame(nptable.T, columns= ['Re', 'C_f_laminar', 'air_force', 'water_force', 'C_f_turbulant', 'air_force', 'water_force'])\n",
    "print(table)"
   ]
  },
  {
   "cell_type": "code",
   "execution_count": null,
   "metadata": {},
   "outputs": [],
   "source": []
  }
 ]
}